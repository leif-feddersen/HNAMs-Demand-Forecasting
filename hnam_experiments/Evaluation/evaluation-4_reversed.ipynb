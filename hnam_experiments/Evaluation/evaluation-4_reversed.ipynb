{
 "cells": [
  {
   "cell_type": "code",
   "execution_count": 1,
   "metadata": {},
   "outputs": [
    {
     "name": "stderr",
     "output_type": "stream",
     "text": [
      "/Users/leif/miniforge3/envs/hnam1/lib/python3.10/site-packages/pytorch_forecasting/models/base_model.py:30: TqdmWarning: IProgress not found. Please update jupyter and ipywidgets. See https://ipywidgets.readthedocs.io/en/stable/user_install.html\n",
      "  from tqdm.autonotebook import tqdm\n"
     ]
    }
   ],
   "source": [
    "import pandas as pd\n",
    "import numpy as np\n",
    "import matplotlib.pyplot as plt\n",
    "import os\n",
    "import sys\n",
    "import seaborn as sns\n",
    "from itertools import product\n",
    "current_dir = os.getcwd()\n",
    "parallel_folder = os.path.abspath(os.path.join(current_dir, '../Fit_and_Predict'))\n",
    "sys.path.append(parallel_folder)\n",
    "\n",
    "from config import get_model_ds_kwargs,get_dataset_kwargs"
   ]
  },
  {
   "cell_type": "code",
   "execution_count": 2,
   "metadata": {},
   "outputs": [],
   "source": [
    "DATASET = 'Walmart'\n",
    "causals = get_model_ds_kwargs('HNAM', DATASET)['causal']"
   ]
  },
  {
   "cell_type": "code",
   "execution_count": 3,
   "metadata": {},
   "outputs": [
    {
     "data": {
      "text/plain": [
       "reverse_hierarchy\n",
       "False    0.846452\n",
       "True     0.848384\n",
       "Name: srmse, dtype: float32"
      ]
     },
     "execution_count": 3,
     "metadata": {},
     "output_type": "execute_result"
    }
   ],
   "source": [
    "hnam = pd.read_pickle(f'{DATASET}/hnam.pkl')\n",
    "hnam['reverse_hierarchy'] = False\n",
    "hnamr = pd.read_pickle(f'{DATASET}/hnam_r.pkl')\n",
    "hnamr['reverse_hierarchy'] = True\n",
    "scaling = pd.read_pickle(f'../Processed/{DATASET}/{DATASET.lower()}_scaling.pkl')\n",
    "\n",
    "data = pd.concat([hnam, hnamr], axis=0)\n",
    "\n",
    "data['mean'] = data['time_series'].map(scaling['mean'])\n",
    "data['std'] = data['time_series'].map(scaling['std'])\n",
    "data['pred_scaled'] = (data['pred']  - data['mean'])  /  data['std']\n",
    "data['true_scaled'] = (data['true']  - data['mean']) /  data['std']\n",
    "data['srmse'] = (data['true_scaled'] - data['pred_scaled']) ** 2\n",
    "data.groupby(['reverse_hierarchy'])['srmse'].mean()**0.5"
   ]
  },
  {
   "cell_type": "code",
   "execution_count": 4,
   "metadata": {},
   "outputs": [],
   "source": [
    "hnam = pd.read_pickle(f'{DATASET}/hnam_all.pkl')\n",
    "hnam['reverse_hierarchy'] = False\n",
    "hnamr = pd.read_pickle(f'{DATASET}/hnamR_all.pkl')\n",
    "hnamr['reverse_hierarchy'] = True\n",
    "scaling = pd.read_pickle(f'../Processed/{DATASET}/{DATASET}_scaling.pkl')\n",
    "\n",
    "data = pd.concat([hnam, hnamr], axis=0)\n",
    "\n",
    "effect_cols = hnam.columns[hnam.columns.str.contains('effect')]\n",
    "scaled_cols = [f'{col}_scaled' for col in effect_cols]\n",
    "data['mean'] = data['time_series'].map(scaling['mean'])\n",
    "data['std'] = data['time_series'].map(scaling['std'])\n",
    "for col in effect_cols:\n",
    "    data[f'{col}_scaled'] = (data[col]  - data['mean'])  /  data['std']"
   ]
  },
  {
   "cell_type": "code",
   "execution_count": 5,
   "metadata": {},
   "outputs": [],
   "source": [
    "diff = data[data['reverse_hierarchy']==True][scaled_cols].reset_index(drop=True) - data[data['reverse_hierarchy']==False][scaled_cols].reset_index(drop=True)"
   ]
  },
  {
   "cell_type": "code",
   "execution_count": 6,
   "metadata": {},
   "outputs": [],
   "source": [
    "for i in range(len(effect_cols)):\n",
    "    data.loc[data[effect_cols[i]]==0,[scaled_cols[i]]] = 0"
   ]
  },
  {
   "cell_type": "code",
   "execution_count": 7,
   "metadata": {},
   "outputs": [
    {
     "data": {
      "text/plain": [
       "effect_level_pred_scaled    0.470\n",
       "effect_weekday_scaled       0.578\n",
       "effect_snap_scaled          0.886\n",
       "effect_National_scaled      0.733\n",
       "effect_Cultural_scaled      0.622\n",
       "effect_Sporting_scaled      0.423\n",
       "effect_relprice_scaled      0.376\n",
       "dtype: float32"
      ]
     },
     "execution_count": 7,
     "metadata": {},
     "output_type": "execute_result"
    }
   ],
   "source": [
    "data[data['reverse_hierarchy']==True][scaled_cols].std().round(3)"
   ]
  },
  {
   "cell_type": "code",
   "execution_count": 8,
   "metadata": {},
   "outputs": [
    {
     "data": {
      "text/plain": [
       "effect_level_pred_scaled    0.079\n",
       "effect_weekday_scaled       0.096\n",
       "effect_snap_scaled          0.122\n",
       "effect_National_scaled      0.190\n",
       "effect_Cultural_scaled      0.189\n",
       "effect_Sporting_scaled      0.273\n",
       "effect_relprice_scaled      0.128\n",
       "dtype: float32"
      ]
     },
     "execution_count": 8,
     "metadata": {},
     "output_type": "execute_result"
    }
   ],
   "source": [
    "((diff.replace(0,np.nan)**2).mean()**0.5).round(3)"
   ]
  }
 ],
 "metadata": {
  "kernelspec": {
   "display_name": "hnam1",
   "language": "python",
   "name": "python3"
  },
  "language_info": {
   "codemirror_mode": {
    "name": "ipython",
    "version": 3
   },
   "file_extension": ".py",
   "mimetype": "text/x-python",
   "name": "python",
   "nbconvert_exporter": "python",
   "pygments_lexer": "ipython3",
   "version": "3.10.14"
  }
 },
 "nbformat": 4,
 "nbformat_minor": 2
}
